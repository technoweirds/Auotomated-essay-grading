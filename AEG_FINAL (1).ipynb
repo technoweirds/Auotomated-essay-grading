{
  "nbformat": 4,
  "nbformat_minor": 0,
  "metadata": {
    "colab": {
      "name": "AEG_FINAL.ipynb",
      "provenance": [],
      "collapsed_sections": []
    },
    "kernelspec": {
      "display_name": "Python 3",
      "language": "python",
      "name": "python3"
    },
    "language_info": {
      "codemirror_mode": {
        "name": "ipython",
        "version": 3
      },
      "file_extension": ".py",
      "mimetype": "text/x-python",
      "name": "python",
      "nbconvert_exporter": "python",
      "pygments_lexer": "ipython3",
      "version": "3.7.3"
    }
  },
  "cells": [
    {
      "cell_type": "code",
      "metadata": {
        "_cell_guid": "79c7e3d0-c299-4dcb-8224-4455121ee9b0",
        "_uuid": "d629ff2d2480ee46fbb7e2d37f6b5fab8052498a",
        "id": "UukED6TC_PX4",
        "outputId": "a516aad5-1d02-403f-e1de-fd6055e889d5",
        "colab": {
          "base_uri": "https://localhost:8080/",
          "height": 107
        }
      },
      "source": [
        "%tensorflow_version 1.x\n",
        "import pandas as pd\n",
        "import numpy as np\n",
        "import matplotlib.pyplot as plt\n",
        "import seaborn as sns\n",
        "from sklearn.model_selection import train_test_split\n",
        "from sklearn.preprocessing import LabelEncoder\n",
        "from keras.models import Model\n",
        "from keras.layers import LSTM, Activation, Dense, Dropout, Input, Embedding,Bidirectional,BatchNormalization\n",
        "from keras.optimizers import RMSprop\n",
        "from keras.preprocessing.text import Tokenizer\n",
        "from keras.preprocessing import sequence\n",
        "from keras.utils import to_categorical\n",
        "from keras.callbacks import EarlyStopping\n",
        "from keras.utils import  to_categorical\n",
        "%matplotlib inline"
      ],
      "execution_count": null,
      "outputs": [
        {
          "output_type": "stream",
          "text": [
            "TensorFlow 1.x selected.\n"
          ],
          "name": "stdout"
        },
        {
          "output_type": "stream",
          "text": [
            "/usr/local/lib/python3.6/dist-packages/statsmodels/tools/_testing.py:19: FutureWarning: pandas.util.testing is deprecated. Use the functions in the public API at pandas.testing instead.\n",
            "  import pandas.util.testing as tm\n",
            "Using TensorFlow backend.\n"
          ],
          "name": "stderr"
        }
      ]
    },
    {
      "cell_type": "code",
      "metadata": {
        "id": "haFhO2-Q_PYF",
        "outputId": "0ebf8776-3109-484f-85fa-edef33cf0644",
        "colab": {
          "base_uri": "https://localhost:8080/",
          "height": 139
        }
      },
      "source": [
        "from nltk.tokenize import word_tokenize \n",
        "from nltk.stem import WordNetLemmatizer\n",
        "lemmatizer = WordNetLemmatizer() \n",
        "import re\n",
        "import nltk\n",
        "nltk.download('stopwords')\n",
        "nltk.download('punkt')\n",
        "nltk.download('wordnet')"
      ],
      "execution_count": null,
      "outputs": [
        {
          "output_type": "stream",
          "text": [
            "[nltk_data] Downloading package stopwords to /root/nltk_data...\n",
            "[nltk_data]   Unzipping corpora/stopwords.zip.\n",
            "[nltk_data] Downloading package punkt to /root/nltk_data...\n",
            "[nltk_data]   Unzipping tokenizers/punkt.zip.\n",
            "[nltk_data] Downloading package wordnet to /root/nltk_data...\n",
            "[nltk_data]   Unzipping corpora/wordnet.zip.\n"
          ],
          "name": "stdout"
        },
        {
          "output_type": "execute_result",
          "data": {
            "text/plain": [
              "True"
            ]
          },
          "metadata": {
            "tags": []
          },
          "execution_count": 2
        }
      ]
    },
    {
      "cell_type": "code",
      "metadata": {
        "id": "qcaHyS8j_PYQ"
      },
      "source": [
        "stopwords = nltk.corpus.stopwords.words('english')"
      ],
      "execution_count": null,
      "outputs": []
    },
    {
      "cell_type": "code",
      "metadata": {
        "id": "qHy9K8cz_PYZ"
      },
      "source": [
        "def clean_text(text):\n",
        "    \n",
        "    text=re.sub(r\"[^a-zA-Z]\",\" \",text)\n",
        "    text=text.lower()\n",
        "    #text=re.sub(r\"[0-9]\",\"\",text)\n",
        "    text=re.sub(r\"i'm\",\"i am\",text)\n",
        "    text=re.sub(r\"he's\",\"he is\",text)\n",
        "    text=re.sub(r\"she's\",\"she is\",text)\n",
        "    text=re.sub(r\"that's\",\"that is\",text)\n",
        "    text=re.sub(r\"what's\",\"what is\",text)\n",
        "    text=re.sub(r\"where's\",\"where is\",text)\n",
        "    text=re.sub(r\"\\'ll\",\" will\",text)\n",
        "    text=re.sub(r\"\\'ve\",\" have\",text)\n",
        "    text=re.sub(r\"\\'re\",\" are\",text)\n",
        "    text=re.sub(r\"\\'d\",\" would\",text)\n",
        "    text=re.sub(r\"won't\",\"will not\",text)\n",
        "    text=re.sub(r\"can't\",\"cannot\",text)\n",
        "    text=re.sub(r\"[-()\\\"#/@;:<>{}+=~|.?,]\",\"\",text)\n",
        "    word_tokens = word_tokenize(text)\n",
        "    filtered_sentence = [lemmatizer.lemmatize(w) for w in word_tokens if w not in stopwords]\n",
        "    text=\" \".join(filtered_sentence)\n",
        "    return text"
      ],
      "execution_count": null,
      "outputs": []
    },
    {
      "cell_type": "code",
      "metadata": {
        "id": "VgcT_AUK_PYj",
        "outputId": "bf52611d-a01d-44cd-e293-3325971635aa",
        "colab": {
          "base_uri": "https://localhost:8080/",
          "height": 271
        }
      },
      "source": [
        "url='https://raw.githubusercontent.com/Prrriyanka/automatedessaygrading/master/actual%20dataset.csv'\n",
        "\n",
        "testurl = \"https://raw.githubusercontent.com/Nehaaamishra/dv/master/Untitled%20spreadsheet%20-%20Sheet1.csv\"\n",
        "\n",
        "train = pd.read_csv(url)\n",
        "\n",
        "test = pd.read_csv(testurl)\n",
        "\n",
        "test.head()\n",
        "\n",
        "\n"
      ],
      "execution_count": null,
      "outputs": [
        {
          "output_type": "execute_result",
          "data": {
            "text/html": [
              "<div>\n",
              "<style scoped>\n",
              "    .dataframe tbody tr th:only-of-type {\n",
              "        vertical-align: middle;\n",
              "    }\n",
              "\n",
              "    .dataframe tbody tr th {\n",
              "        vertical-align: top;\n",
              "    }\n",
              "\n",
              "    .dataframe thead th {\n",
              "        text-align: right;\n",
              "    }\n",
              "</style>\n",
              "<table border=\"1\" class=\"dataframe\">\n",
              "  <thead>\n",
              "    <tr style=\"text-align: right;\">\n",
              "      <th></th>\n",
              "      <th>ID</th>\n",
              "      <th>Essayset</th>\n",
              "      <th>min_score</th>\n",
              "      <th>max_score</th>\n",
              "      <th>score_1</th>\n",
              "      <th>score_2</th>\n",
              "      <th>score_3</th>\n",
              "      <th>score_4</th>\n",
              "      <th>score_5</th>\n",
              "      <th>clarity</th>\n",
              "      <th>coherent</th>\n",
              "      <th>EssayText</th>\n",
              "    </tr>\n",
              "  </thead>\n",
              "  <tbody>\n",
              "    <tr>\n",
              "      <th>0</th>\n",
              "      <td>1</td>\n",
              "      <td>1</td>\n",
              "      <td>0</td>\n",
              "      <td>3</td>\n",
              "      <td>1</td>\n",
              "      <td>1</td>\n",
              "      <td>1.0</td>\n",
              "      <td>1.0</td>\n",
              "      <td>1.0</td>\n",
              "      <td>average</td>\n",
              "      <td>worst</td>\n",
              "      <td>additional information would need replicate ex...</td>\n",
              "    </tr>\n",
              "    <tr>\n",
              "      <th>1</th>\n",
              "      <td>3</td>\n",
              "      <td>1</td>\n",
              "      <td>0</td>\n",
              "      <td>3</td>\n",
              "      <td>1</td>\n",
              "      <td>1</td>\n",
              "      <td>1.0</td>\n",
              "      <td>1.0</td>\n",
              "      <td>1.5</td>\n",
              "      <td>worst</td>\n",
              "      <td>above_average</td>\n",
              "      <td>need trial control set exact amount vinegar po...</td>\n",
              "    </tr>\n",
              "    <tr>\n",
              "      <th>2</th>\n",
              "      <td>4</td>\n",
              "      <td>1</td>\n",
              "      <td>0</td>\n",
              "      <td>3</td>\n",
              "      <td>0</td>\n",
              "      <td>0</td>\n",
              "      <td>0.0</td>\n",
              "      <td>0.0</td>\n",
              "      <td>1.0</td>\n",
              "      <td>worst</td>\n",
              "      <td>worst</td>\n",
              "      <td>student list rock better rock worse procedure</td>\n",
              "    </tr>\n",
              "    <tr>\n",
              "      <th>3</th>\n",
              "      <td>5</td>\n",
              "      <td>1</td>\n",
              "      <td>0</td>\n",
              "      <td>3</td>\n",
              "      <td>2</td>\n",
              "      <td>2</td>\n",
              "      <td>2.0</td>\n",
              "      <td>2.5</td>\n",
              "      <td>1.0</td>\n",
              "      <td>above_average</td>\n",
              "      <td>worst</td>\n",
              "      <td>student able make replicate would need tell us...</td>\n",
              "    </tr>\n",
              "    <tr>\n",
              "      <th>4</th>\n",
              "      <td>6</td>\n",
              "      <td>1</td>\n",
              "      <td>0</td>\n",
              "      <td>3</td>\n",
              "      <td>1</td>\n",
              "      <td>0</td>\n",
              "      <td>0.0</td>\n",
              "      <td>0.0</td>\n",
              "      <td>0.0</td>\n",
              "      <td>worst</td>\n",
              "      <td>worst</td>\n",
              "      <td>would need information would let different sam...</td>\n",
              "    </tr>\n",
              "  </tbody>\n",
              "</table>\n",
              "</div>"
            ],
            "text/plain": [
              "   ID  ...                                          EssayText\n",
              "0   1  ...  additional information would need replicate ex...\n",
              "1   3  ...  need trial control set exact amount vinegar po...\n",
              "2   4  ...      student list rock better rock worse procedure\n",
              "3   5  ...  student able make replicate would need tell us...\n",
              "4   6  ...  would need information would let different sam...\n",
              "\n",
              "[5 rows x 12 columns]"
            ]
          },
          "metadata": {
            "tags": []
          },
          "execution_count": 5
        }
      ]
    },
    {
      "cell_type": "code",
      "metadata": {
        "id": "FJpfrMWf_PYs",
        "outputId": "602dcf21-b861-44b7-c3bf-84b6d169e337",
        "colab": {
          "base_uri": "https://localhost:8080/",
          "height": 271
        }
      },
      "source": [
        "train.head()"
      ],
      "execution_count": null,
      "outputs": [
        {
          "output_type": "execute_result",
          "data": {
            "text/html": [
              "<div>\n",
              "<style scoped>\n",
              "    .dataframe tbody tr th:only-of-type {\n",
              "        vertical-align: middle;\n",
              "    }\n",
              "\n",
              "    .dataframe tbody tr th {\n",
              "        vertical-align: top;\n",
              "    }\n",
              "\n",
              "    .dataframe thead th {\n",
              "        text-align: right;\n",
              "    }\n",
              "</style>\n",
              "<table border=\"1\" class=\"dataframe\">\n",
              "  <thead>\n",
              "    <tr style=\"text-align: right;\">\n",
              "      <th></th>\n",
              "      <th>ID</th>\n",
              "      <th>Essayset</th>\n",
              "      <th>min_score</th>\n",
              "      <th>max_score</th>\n",
              "      <th>score_1</th>\n",
              "      <th>score_2</th>\n",
              "      <th>score_3</th>\n",
              "      <th>score_4</th>\n",
              "      <th>score_5</th>\n",
              "      <th>clarity</th>\n",
              "      <th>coherent</th>\n",
              "      <th>EssayText</th>\n",
              "    </tr>\n",
              "  </thead>\n",
              "  <tbody>\n",
              "    <tr>\n",
              "      <th>0</th>\n",
              "      <td>1</td>\n",
              "      <td>1.0</td>\n",
              "      <td>0</td>\n",
              "      <td>3</td>\n",
              "      <td>1</td>\n",
              "      <td>1</td>\n",
              "      <td>1.0</td>\n",
              "      <td>1.0</td>\n",
              "      <td>1.0</td>\n",
              "      <td>average</td>\n",
              "      <td>worst</td>\n",
              "      <td>additional information would need replicate ex...</td>\n",
              "    </tr>\n",
              "    <tr>\n",
              "      <th>1</th>\n",
              "      <td>3</td>\n",
              "      <td>1.0</td>\n",
              "      <td>0</td>\n",
              "      <td>3</td>\n",
              "      <td>1</td>\n",
              "      <td>1</td>\n",
              "      <td>1.0</td>\n",
              "      <td>1.0</td>\n",
              "      <td>1.5</td>\n",
              "      <td>worst</td>\n",
              "      <td>above_average</td>\n",
              "      <td>need trial control set exact amount vinegar po...</td>\n",
              "    </tr>\n",
              "    <tr>\n",
              "      <th>2</th>\n",
              "      <td>4</td>\n",
              "      <td>1.0</td>\n",
              "      <td>0</td>\n",
              "      <td>3</td>\n",
              "      <td>0</td>\n",
              "      <td>0</td>\n",
              "      <td>0.0</td>\n",
              "      <td>0.0</td>\n",
              "      <td>1.0</td>\n",
              "      <td>worst</td>\n",
              "      <td>worst</td>\n",
              "      <td>student list rock better rock worse procedure</td>\n",
              "    </tr>\n",
              "    <tr>\n",
              "      <th>3</th>\n",
              "      <td>5</td>\n",
              "      <td>1.0</td>\n",
              "      <td>0</td>\n",
              "      <td>3</td>\n",
              "      <td>2</td>\n",
              "      <td>2</td>\n",
              "      <td>2.0</td>\n",
              "      <td>2.5</td>\n",
              "      <td>1.0</td>\n",
              "      <td>above_average</td>\n",
              "      <td>worst</td>\n",
              "      <td>student able make replicate would need tell us...</td>\n",
              "    </tr>\n",
              "    <tr>\n",
              "      <th>4</th>\n",
              "      <td>6</td>\n",
              "      <td>1.0</td>\n",
              "      <td>0</td>\n",
              "      <td>3</td>\n",
              "      <td>1</td>\n",
              "      <td>0</td>\n",
              "      <td>0.0</td>\n",
              "      <td>0.0</td>\n",
              "      <td>0.0</td>\n",
              "      <td>worst</td>\n",
              "      <td>worst</td>\n",
              "      <td>would need information would let different sam...</td>\n",
              "    </tr>\n",
              "  </tbody>\n",
              "</table>\n",
              "</div>"
            ],
            "text/plain": [
              "   ID  ...                                          EssayText\n",
              "0   1  ...  additional information would need replicate ex...\n",
              "1   3  ...  need trial control set exact amount vinegar po...\n",
              "2   4  ...      student list rock better rock worse procedure\n",
              "3   5  ...  student able make replicate would need tell us...\n",
              "4   6  ...  would need information would let different sam...\n",
              "\n",
              "[5 rows x 12 columns]"
            ]
          },
          "metadata": {
            "tags": []
          },
          "execution_count": 6
        }
      ]
    },
    {
      "cell_type": "code",
      "metadata": {
        "id": "G6WCWJe5_PYz"
      },
      "source": [
        "train['avg_score']=np.round((train.score_1+train.score_2+train.score_3)/3)"
      ],
      "execution_count": null,
      "outputs": []
    },
    {
      "cell_type": "code",
      "metadata": {
        "id": "Z-lazZLP_PZO"
      },
      "source": [
        "train2=train.drop(columns=['ID','Essayset','min_score','max_score','clarity','coherent'])"
      ],
      "execution_count": null,
      "outputs": []
    },
    {
      "cell_type": "code",
      "metadata": {
        "id": "csAzw_8b_PY9"
      },
      "source": [
        "train.drop(columns=['score_1','score_2','score_3','score_4','score_5'],inplace=True)"
      ],
      "execution_count": null,
      "outputs": []
    },
    {
      "cell_type": "code",
      "metadata": {
        "id": "580Y8n5o_PZE",
        "outputId": "0c4aaf55-9d91-4a29-9889-a28b57d6344b",
        "colab": {
          "base_uri": "https://localhost:8080/",
          "height": 202
        }
      },
      "source": [
        "train.head()"
      ],
      "execution_count": null,
      "outputs": [
        {
          "output_type": "execute_result",
          "data": {
            "text/html": [
              "<div>\n",
              "<style scoped>\n",
              "    .dataframe tbody tr th:only-of-type {\n",
              "        vertical-align: middle;\n",
              "    }\n",
              "\n",
              "    .dataframe tbody tr th {\n",
              "        vertical-align: top;\n",
              "    }\n",
              "\n",
              "    .dataframe thead th {\n",
              "        text-align: right;\n",
              "    }\n",
              "</style>\n",
              "<table border=\"1\" class=\"dataframe\">\n",
              "  <thead>\n",
              "    <tr style=\"text-align: right;\">\n",
              "      <th></th>\n",
              "      <th>ID</th>\n",
              "      <th>Essayset</th>\n",
              "      <th>min_score</th>\n",
              "      <th>max_score</th>\n",
              "      <th>clarity</th>\n",
              "      <th>coherent</th>\n",
              "      <th>EssayText</th>\n",
              "      <th>avg_score</th>\n",
              "    </tr>\n",
              "  </thead>\n",
              "  <tbody>\n",
              "    <tr>\n",
              "      <th>0</th>\n",
              "      <td>1</td>\n",
              "      <td>1.0</td>\n",
              "      <td>0</td>\n",
              "      <td>3</td>\n",
              "      <td>average</td>\n",
              "      <td>worst</td>\n",
              "      <td>additional information would need replicate ex...</td>\n",
              "      <td>1.0</td>\n",
              "    </tr>\n",
              "    <tr>\n",
              "      <th>1</th>\n",
              "      <td>3</td>\n",
              "      <td>1.0</td>\n",
              "      <td>0</td>\n",
              "      <td>3</td>\n",
              "      <td>worst</td>\n",
              "      <td>above_average</td>\n",
              "      <td>need trial control set exact amount vinegar po...</td>\n",
              "      <td>1.0</td>\n",
              "    </tr>\n",
              "    <tr>\n",
              "      <th>2</th>\n",
              "      <td>4</td>\n",
              "      <td>1.0</td>\n",
              "      <td>0</td>\n",
              "      <td>3</td>\n",
              "      <td>worst</td>\n",
              "      <td>worst</td>\n",
              "      <td>student list rock better rock worse procedure</td>\n",
              "      <td>0.0</td>\n",
              "    </tr>\n",
              "    <tr>\n",
              "      <th>3</th>\n",
              "      <td>5</td>\n",
              "      <td>1.0</td>\n",
              "      <td>0</td>\n",
              "      <td>3</td>\n",
              "      <td>above_average</td>\n",
              "      <td>worst</td>\n",
              "      <td>student able make replicate would need tell us...</td>\n",
              "      <td>2.0</td>\n",
              "    </tr>\n",
              "    <tr>\n",
              "      <th>4</th>\n",
              "      <td>6</td>\n",
              "      <td>1.0</td>\n",
              "      <td>0</td>\n",
              "      <td>3</td>\n",
              "      <td>worst</td>\n",
              "      <td>worst</td>\n",
              "      <td>would need information would let different sam...</td>\n",
              "      <td>0.0</td>\n",
              "    </tr>\n",
              "  </tbody>\n",
              "</table>\n",
              "</div>"
            ],
            "text/plain": [
              "   ID  Essayset  ...                                          EssayText  avg_score\n",
              "0   1       1.0  ...  additional information would need replicate ex...        1.0\n",
              "1   3       1.0  ...  need trial control set exact amount vinegar po...        1.0\n",
              "2   4       1.0  ...      student list rock better rock worse procedure        0.0\n",
              "3   5       1.0  ...  student able make replicate would need tell us...        2.0\n",
              "4   6       1.0  ...  would need information would let different sam...        0.0\n",
              "\n",
              "[5 rows x 8 columns]"
            ]
          },
          "metadata": {
            "tags": []
          },
          "execution_count": 10
        }
      ]
    },
    {
      "cell_type": "code",
      "metadata": {
        "id": "enxdxbEP_PZW",
        "outputId": "b6aca17e-ad11-4825-9171-46eda2162b38",
        "colab": {
          "base_uri": "https://localhost:8080/",
          "height": 202
        }
      },
      "source": [
        "train2.head()"
      ],
      "execution_count": null,
      "outputs": [
        {
          "output_type": "execute_result",
          "data": {
            "text/html": [
              "<div>\n",
              "<style scoped>\n",
              "    .dataframe tbody tr th:only-of-type {\n",
              "        vertical-align: middle;\n",
              "    }\n",
              "\n",
              "    .dataframe tbody tr th {\n",
              "        vertical-align: top;\n",
              "    }\n",
              "\n",
              "    .dataframe thead th {\n",
              "        text-align: right;\n",
              "    }\n",
              "</style>\n",
              "<table border=\"1\" class=\"dataframe\">\n",
              "  <thead>\n",
              "    <tr style=\"text-align: right;\">\n",
              "      <th></th>\n",
              "      <th>score_1</th>\n",
              "      <th>score_2</th>\n",
              "      <th>score_3</th>\n",
              "      <th>score_4</th>\n",
              "      <th>score_5</th>\n",
              "      <th>EssayText</th>\n",
              "      <th>avg_score</th>\n",
              "    </tr>\n",
              "  </thead>\n",
              "  <tbody>\n",
              "    <tr>\n",
              "      <th>0</th>\n",
              "      <td>1</td>\n",
              "      <td>1</td>\n",
              "      <td>1.0</td>\n",
              "      <td>1.0</td>\n",
              "      <td>1.0</td>\n",
              "      <td>additional information would need replicate ex...</td>\n",
              "      <td>1.0</td>\n",
              "    </tr>\n",
              "    <tr>\n",
              "      <th>1</th>\n",
              "      <td>1</td>\n",
              "      <td>1</td>\n",
              "      <td>1.0</td>\n",
              "      <td>1.0</td>\n",
              "      <td>1.5</td>\n",
              "      <td>need trial control set exact amount vinegar po...</td>\n",
              "      <td>1.0</td>\n",
              "    </tr>\n",
              "    <tr>\n",
              "      <th>2</th>\n",
              "      <td>0</td>\n",
              "      <td>0</td>\n",
              "      <td>0.0</td>\n",
              "      <td>0.0</td>\n",
              "      <td>1.0</td>\n",
              "      <td>student list rock better rock worse procedure</td>\n",
              "      <td>0.0</td>\n",
              "    </tr>\n",
              "    <tr>\n",
              "      <th>3</th>\n",
              "      <td>2</td>\n",
              "      <td>2</td>\n",
              "      <td>2.0</td>\n",
              "      <td>2.5</td>\n",
              "      <td>1.0</td>\n",
              "      <td>student able make replicate would need tell us...</td>\n",
              "      <td>2.0</td>\n",
              "    </tr>\n",
              "    <tr>\n",
              "      <th>4</th>\n",
              "      <td>1</td>\n",
              "      <td>0</td>\n",
              "      <td>0.0</td>\n",
              "      <td>0.0</td>\n",
              "      <td>0.0</td>\n",
              "      <td>would need information would let different sam...</td>\n",
              "      <td>0.0</td>\n",
              "    </tr>\n",
              "  </tbody>\n",
              "</table>\n",
              "</div>"
            ],
            "text/plain": [
              "   score_1  ...  avg_score\n",
              "0        1  ...        1.0\n",
              "1        1  ...        1.0\n",
              "2        0  ...        0.0\n",
              "3        2  ...        2.0\n",
              "4        1  ...        0.0\n",
              "\n",
              "[5 rows x 7 columns]"
            ]
          },
          "metadata": {
            "tags": []
          },
          "execution_count": 11
        }
      ]
    },
    {
      "cell_type": "code",
      "metadata": {
        "id": "NVW90UXi_PZe",
        "outputId": "3c9d1cad-f5cd-4da2-c40b-3abc87dac628",
        "colab": {
          "base_uri": "https://localhost:8080/",
          "height": 139
        }
      },
      "source": [
        "max_words = 2500\n",
        "max_len = 50\n",
        "tok = Tokenizer(num_words=max_words)\n",
        "tok.fit_on_texts(train2.EssayText)\n",
        "sequences = tok.texts_to_sequences(train2.EssayText)\n",
        "sequences_matrix = sequence.pad_sequences(sequences,maxlen=max_len)\n",
        "print(sequences_matrix)\n",
        "Y1=train2.avg_score"
      ],
      "execution_count": null,
      "outputs": [
        {
          "output_type": "stream",
          "text": [
            "[[   0    0    0 ...   26  415   52]\n",
            " [   0    0    0 ...  439  785  316]\n",
            " [   0    0    0 ...  734 1756  121]\n",
            " ...\n",
            " [   0    0    0 ...  267  181  130]\n",
            " [   0    0    0 ...  267   65   58]\n",
            " [   0    0    0 ...  399   43   82]]\n"
          ],
          "name": "stdout"
        }
      ]
    },
    {
      "cell_type": "code",
      "metadata": {
        "id": "ZOu22qeG_PZl"
      },
      "source": [
        "X_train,X_test,Y_train,Y_test = train_test_split(sequences_matrix,to_categorical(Y1),test_size=0.20)\n"
      ],
      "execution_count": null,
      "outputs": []
    },
    {
      "cell_type": "code",
      "metadata": {
        "id": "QNpK0mLu_PZr"
      },
      "source": [
        "def RNN():\n",
        "    inputs = Input(name='inputs',shape=[max_len])\n",
        "    layer = Embedding(max_words,50,input_length=max_len)(inputs)\n",
        "    layer = Bidirectional(LSTM(64))(layer)\n",
        "    #layer = Bidirectional(LSTM(128))(layer)\n",
        "    layer = Dense(64,name='FC1')(layer)\n",
        "    #layer=BatchNormalization()(layer)\n",
        "    layer = Activation('relu')(layer)\n",
        "    layer = Dropout(0.5)(layer)\n",
        "    layer = Dense(64,name='FC2')(layer)\n",
        "    #layer=BatchNormalization()(layer)\n",
        "    layer = Activation('relu')(layer)\n",
        "    layer = Dropout(0.5)(layer)\n",
        "    layer = Dense(4,name='out_layer')(layer)\n",
        "    layer = Activation('softmax')(layer)\n",
        "    model = Model(inputs=inputs,outputs=layer)\n",
        "    return model\n",
        "    "
      ],
      "execution_count": null,
      "outputs": []
    },
    {
      "cell_type": "code",
      "metadata": {
        "id": "H3au70Tl_PZy",
        "outputId": "8d7ec98e-b2d8-49f4-cf86-e2c1184d8b5a",
        "colab": {
          "base_uri": "https://localhost:8080/",
          "height": 765
        }
      },
      "source": [
        "model = RNN()\n",
        "print(model.summary())\n",
        "model.compile(loss='categorical_crossentropy',optimizer=RMSprop(),metrics=['accuracy'])\n",
        "\n",
        "model.fit(X_train,Y_train,batch_size=64,epochs=2,validation_data=(X_test,Y_test))\n"
      ],
      "execution_count": null,
      "outputs": [
        {
          "output_type": "stream",
          "text": [
            "WARNING:tensorflow:From /tensorflow-1.15.2/python3.6/tensorflow_core/python/ops/resource_variable_ops.py:1630: calling BaseResourceVariable.__init__ (from tensorflow.python.ops.resource_variable_ops) with constraint is deprecated and will be removed in a future version.\n",
            "Instructions for updating:\n",
            "If using Keras pass *_constraint arguments to layers.\n",
            "Model: \"model_1\"\n",
            "_________________________________________________________________\n",
            "Layer (type)                 Output Shape              Param #   \n",
            "=================================================================\n",
            "inputs (InputLayer)          (None, 50)                0         \n",
            "_________________________________________________________________\n",
            "embedding_1 (Embedding)      (None, 50, 50)            125000    \n",
            "_________________________________________________________________\n",
            "bidirectional_1 (Bidirection (None, 128)               58880     \n",
            "_________________________________________________________________\n",
            "FC1 (Dense)                  (None, 64)                8256      \n",
            "_________________________________________________________________\n",
            "activation_1 (Activation)    (None, 64)                0         \n",
            "_________________________________________________________________\n",
            "dropout_1 (Dropout)          (None, 64)                0         \n",
            "_________________________________________________________________\n",
            "FC2 (Dense)                  (None, 64)                4160      \n",
            "_________________________________________________________________\n",
            "activation_2 (Activation)    (None, 64)                0         \n",
            "_________________________________________________________________\n",
            "dropout_2 (Dropout)          (None, 64)                0         \n",
            "_________________________________________________________________\n",
            "out_layer (Dense)            (None, 4)                 260       \n",
            "_________________________________________________________________\n",
            "activation_3 (Activation)    (None, 4)                 0         \n",
            "=================================================================\n",
            "Total params: 196,556\n",
            "Trainable params: 196,556\n",
            "Non-trainable params: 0\n",
            "_________________________________________________________________\n",
            "None\n",
            "WARNING:tensorflow:From /tensorflow-1.15.2/python3.6/keras/backend/tensorflow_backend.py:422: The name tf.global_variables is deprecated. Please use tf.compat.v1.global_variables instead.\n",
            "\n",
            "Train on 12937 samples, validate on 3235 samples\n",
            "Epoch 1/2\n",
            "12937/12937 [==============================] - 20s 2ms/step - loss: 1.0098 - accuracy: 0.5464 - val_loss: 0.8378 - val_accuracy: 0.6340\n",
            "Epoch 2/2\n",
            "12937/12937 [==============================] - 18s 1ms/step - loss: 0.8024 - accuracy: 0.6580 - val_loss: 0.8017 - val_accuracy: 0.6359\n"
          ],
          "name": "stdout"
        },
        {
          "output_type": "execute_result",
          "data": {
            "text/plain": [
              "<keras.callbacks.callbacks.History at 0x7fd4da5fa320>"
            ]
          },
          "metadata": {
            "tags": []
          },
          "execution_count": 15
        }
      ]
    },
    {
      "cell_type": "code",
      "metadata": {
        "id": "wHuOVdZc_PZ3"
      },
      "source": [
        "y_pred_train=model.predict(sequences_matrix)"
      ],
      "execution_count": null,
      "outputs": []
    },
    {
      "cell_type": "code",
      "metadata": {
        "id": "sAV-WCG2iD2r"
      },
      "source": [
        ""
      ],
      "execution_count": null,
      "outputs": []
    },
    {
      "cell_type": "code",
      "metadata": {
        "id": "BLpJ3zne_PZ8"
      },
      "source": [
        "tt1=pd.DataFrame(y_pred_train,columns=['out1','out2','out3','out4'])"
      ],
      "execution_count": null,
      "outputs": []
    },
    {
      "cell_type": "code",
      "metadata": {
        "id": "BzJqX4Yq_PaC"
      },
      "source": [
        ""
      ],
      "execution_count": null,
      "outputs": []
    },
    {
      "cell_type": "code",
      "metadata": {
        "id": "DGedskti_PaI"
      },
      "source": [
        "train3=train.drop(columns=['ID','min_score','max_score','EssayText'])"
      ],
      "execution_count": null,
      "outputs": []
    },
    {
      "cell_type": "code",
      "metadata": {
        "id": "Fx4lTWOL_PaO"
      },
      "source": [
        "train4=pd.concat([train3,tt1],axis=1)"
      ],
      "execution_count": null,
      "outputs": []
    },
    {
      "cell_type": "code",
      "metadata": {
        "id": "5DNB_bY8_PaV",
        "outputId": "521ddf86-447c-4615-db43-a25fa67d9c0d",
        "colab": {
          "base_uri": "https://localhost:8080/",
          "height": 202
        }
      },
      "source": [
        "train4.head()"
      ],
      "execution_count": null,
      "outputs": [
        {
          "output_type": "execute_result",
          "data": {
            "text/html": [
              "<div>\n",
              "<style scoped>\n",
              "    .dataframe tbody tr th:only-of-type {\n",
              "        vertical-align: middle;\n",
              "    }\n",
              "\n",
              "    .dataframe tbody tr th {\n",
              "        vertical-align: top;\n",
              "    }\n",
              "\n",
              "    .dataframe thead th {\n",
              "        text-align: right;\n",
              "    }\n",
              "</style>\n",
              "<table border=\"1\" class=\"dataframe\">\n",
              "  <thead>\n",
              "    <tr style=\"text-align: right;\">\n",
              "      <th></th>\n",
              "      <th>Essayset</th>\n",
              "      <th>clarity</th>\n",
              "      <th>coherent</th>\n",
              "      <th>avg_score</th>\n",
              "      <th>out1</th>\n",
              "      <th>out2</th>\n",
              "      <th>out3</th>\n",
              "      <th>out4</th>\n",
              "    </tr>\n",
              "  </thead>\n",
              "  <tbody>\n",
              "    <tr>\n",
              "      <th>0</th>\n",
              "      <td>1.0</td>\n",
              "      <td>average</td>\n",
              "      <td>worst</td>\n",
              "      <td>1.0</td>\n",
              "      <td>0.077252</td>\n",
              "      <td>0.182335</td>\n",
              "      <td>0.437558</td>\n",
              "      <td>0.302855</td>\n",
              "    </tr>\n",
              "    <tr>\n",
              "      <th>1</th>\n",
              "      <td>1.0</td>\n",
              "      <td>worst</td>\n",
              "      <td>above_average</td>\n",
              "      <td>1.0</td>\n",
              "      <td>0.728914</td>\n",
              "      <td>0.250911</td>\n",
              "      <td>0.018163</td>\n",
              "      <td>0.002012</td>\n",
              "    </tr>\n",
              "    <tr>\n",
              "      <th>2</th>\n",
              "      <td>1.0</td>\n",
              "      <td>worst</td>\n",
              "      <td>worst</td>\n",
              "      <td>0.0</td>\n",
              "      <td>0.918654</td>\n",
              "      <td>0.078819</td>\n",
              "      <td>0.002307</td>\n",
              "      <td>0.000219</td>\n",
              "    </tr>\n",
              "    <tr>\n",
              "      <th>3</th>\n",
              "      <td>1.0</td>\n",
              "      <td>above_average</td>\n",
              "      <td>worst</td>\n",
              "      <td>2.0</td>\n",
              "      <td>0.198783</td>\n",
              "      <td>0.408076</td>\n",
              "      <td>0.339139</td>\n",
              "      <td>0.054001</td>\n",
              "    </tr>\n",
              "    <tr>\n",
              "      <th>4</th>\n",
              "      <td>1.0</td>\n",
              "      <td>worst</td>\n",
              "      <td>worst</td>\n",
              "      <td>0.0</td>\n",
              "      <td>0.841969</td>\n",
              "      <td>0.146382</td>\n",
              "      <td>0.010165</td>\n",
              "      <td>0.001484</td>\n",
              "    </tr>\n",
              "  </tbody>\n",
              "</table>\n",
              "</div>"
            ],
            "text/plain": [
              "   Essayset        clarity       coherent  ...      out2      out3      out4\n",
              "0       1.0        average          worst  ...  0.182335  0.437558  0.302855\n",
              "1       1.0          worst  above_average  ...  0.250911  0.018163  0.002012\n",
              "2       1.0          worst          worst  ...  0.078819  0.002307  0.000219\n",
              "3       1.0  above_average          worst  ...  0.408076  0.339139  0.054001\n",
              "4       1.0          worst          worst  ...  0.146382  0.010165  0.001484\n",
              "\n",
              "[5 rows x 8 columns]"
            ]
          },
          "metadata": {
            "tags": []
          },
          "execution_count": 20
        }
      ]
    },
    {
      "cell_type": "code",
      "metadata": {
        "id": "8V-xW0id_Pab",
        "outputId": "fa4b8418-bc44-46a1-ea46-36df22d6cc84",
        "colab": {
          "base_uri": "https://localhost:8080/",
          "height": 297
        }
      },
      "source": [
        "!pip install category_encoders\n",
        "import category_encoders as ce\n"
      ],
      "execution_count": null,
      "outputs": [
        {
          "output_type": "stream",
          "text": [
            "Collecting category_encoders\n",
            "\u001b[?25l  Downloading https://files.pythonhosted.org/packages/44/57/fcef41c248701ee62e8325026b90c432adea35555cbc870aff9cfba23727/category_encoders-2.2.2-py2.py3-none-any.whl (80kB)\n",
            "\u001b[K     |████████████████████████████████| 81kB 2.1MB/s \n",
            "\u001b[?25hRequirement already satisfied: scipy>=1.0.0 in /usr/local/lib/python3.6/dist-packages (from category_encoders) (1.4.1)\n",
            "Requirement already satisfied: pandas>=0.21.1 in /usr/local/lib/python3.6/dist-packages (from category_encoders) (1.0.5)\n",
            "Requirement already satisfied: scikit-learn>=0.20.0 in /usr/local/lib/python3.6/dist-packages (from category_encoders) (0.22.2.post1)\n",
            "Requirement already satisfied: numpy>=1.14.0 in /usr/local/lib/python3.6/dist-packages (from category_encoders) (1.18.5)\n",
            "Requirement already satisfied: statsmodels>=0.9.0 in /usr/local/lib/python3.6/dist-packages (from category_encoders) (0.10.2)\n",
            "Requirement already satisfied: patsy>=0.5.1 in /usr/local/lib/python3.6/dist-packages (from category_encoders) (0.5.1)\n",
            "Requirement already satisfied: python-dateutil>=2.6.1 in /usr/local/lib/python3.6/dist-packages (from pandas>=0.21.1->category_encoders) (2.8.1)\n",
            "Requirement already satisfied: pytz>=2017.2 in /usr/local/lib/python3.6/dist-packages (from pandas>=0.21.1->category_encoders) (2018.9)\n",
            "Requirement already satisfied: joblib>=0.11 in /usr/local/lib/python3.6/dist-packages (from scikit-learn>=0.20.0->category_encoders) (0.16.0)\n",
            "Requirement already satisfied: six in /usr/local/lib/python3.6/dist-packages (from patsy>=0.5.1->category_encoders) (1.15.0)\n",
            "Installing collected packages: category-encoders\n",
            "Successfully installed category-encoders-2.2.2\n"
          ],
          "name": "stdout"
        }
      ]
    },
    {
      "cell_type": "code",
      "metadata": {
        "id": "O5zBWaXN_Pah"
      },
      "source": [
        "ce1=ce.TargetEncoder(cols = ['Essayset','clarity','coherent'], min_samples_leaf = 20)"
      ],
      "execution_count": null,
      "outputs": []
    },
    {
      "cell_type": "code",
      "metadata": {
        "id": "iVeFLq7q_Pam"
      },
      "source": [
        "train4.loc[:,['Essayset','clarity','coherent']]=ce1.fit_transform(train4.loc[:,['Essayset','clarity','coherent']],train4.loc[:,['avg_score']])"
      ],
      "execution_count": null,
      "outputs": []
    },
    {
      "cell_type": "code",
      "metadata": {
        "id": "r07vTlX7_Par",
        "outputId": "af3e6df3-ef0a-4021-d143-ac7bd67ff745",
        "colab": {
          "base_uri": "https://localhost:8080/",
          "height": 202
        }
      },
      "source": [
        "train4.head()"
      ],
      "execution_count": null,
      "outputs": [
        {
          "output_type": "execute_result",
          "data": {
            "text/html": [
              "<div>\n",
              "<style scoped>\n",
              "    .dataframe tbody tr th:only-of-type {\n",
              "        vertical-align: middle;\n",
              "    }\n",
              "\n",
              "    .dataframe tbody tr th {\n",
              "        vertical-align: top;\n",
              "    }\n",
              "\n",
              "    .dataframe thead th {\n",
              "        text-align: right;\n",
              "    }\n",
              "</style>\n",
              "<table border=\"1\" class=\"dataframe\">\n",
              "  <thead>\n",
              "    <tr style=\"text-align: right;\">\n",
              "      <th></th>\n",
              "      <th>Essayset</th>\n",
              "      <th>clarity</th>\n",
              "      <th>coherent</th>\n",
              "      <th>avg_score</th>\n",
              "      <th>out1</th>\n",
              "      <th>out2</th>\n",
              "      <th>out3</th>\n",
              "      <th>out4</th>\n",
              "    </tr>\n",
              "  </thead>\n",
              "  <tbody>\n",
              "    <tr>\n",
              "      <th>0</th>\n",
              "      <td>1.480649</td>\n",
              "      <td>0.496662</td>\n",
              "      <td>0.482423</td>\n",
              "      <td>1.0</td>\n",
              "      <td>0.077252</td>\n",
              "      <td>0.182335</td>\n",
              "      <td>0.437558</td>\n",
              "      <td>0.302855</td>\n",
              "    </tr>\n",
              "    <tr>\n",
              "      <th>1</th>\n",
              "      <td>1.480649</td>\n",
              "      <td>0.486640</td>\n",
              "      <td>1.944411</td>\n",
              "      <td>1.0</td>\n",
              "      <td>0.728914</td>\n",
              "      <td>0.250911</td>\n",
              "      <td>0.018163</td>\n",
              "      <td>0.002012</td>\n",
              "    </tr>\n",
              "    <tr>\n",
              "      <th>2</th>\n",
              "      <td>1.480649</td>\n",
              "      <td>0.486640</td>\n",
              "      <td>0.482423</td>\n",
              "      <td>0.0</td>\n",
              "      <td>0.918654</td>\n",
              "      <td>0.078819</td>\n",
              "      <td>0.002307</td>\n",
              "      <td>0.000219</td>\n",
              "    </tr>\n",
              "    <tr>\n",
              "      <th>3</th>\n",
              "      <td>1.480649</td>\n",
              "      <td>1.943451</td>\n",
              "      <td>0.482423</td>\n",
              "      <td>2.0</td>\n",
              "      <td>0.198783</td>\n",
              "      <td>0.408076</td>\n",
              "      <td>0.339139</td>\n",
              "      <td>0.054001</td>\n",
              "    </tr>\n",
              "    <tr>\n",
              "      <th>4</th>\n",
              "      <td>1.480649</td>\n",
              "      <td>0.486640</td>\n",
              "      <td>0.482423</td>\n",
              "      <td>0.0</td>\n",
              "      <td>0.841969</td>\n",
              "      <td>0.146382</td>\n",
              "      <td>0.010165</td>\n",
              "      <td>0.001484</td>\n",
              "    </tr>\n",
              "  </tbody>\n",
              "</table>\n",
              "</div>"
            ],
            "text/plain": [
              "   Essayset   clarity  coherent  ...      out2      out3      out4\n",
              "0  1.480649  0.496662  0.482423  ...  0.182335  0.437558  0.302855\n",
              "1  1.480649  0.486640  1.944411  ...  0.250911  0.018163  0.002012\n",
              "2  1.480649  0.486640  0.482423  ...  0.078819  0.002307  0.000219\n",
              "3  1.480649  1.943451  0.482423  ...  0.408076  0.339139  0.054001\n",
              "4  1.480649  0.486640  0.482423  ...  0.146382  0.010165  0.001484\n",
              "\n",
              "[5 rows x 8 columns]"
            ]
          },
          "metadata": {
            "tags": []
          },
          "execution_count": 24
        }
      ]
    },
    {
      "cell_type": "code",
      "metadata": {
        "id": "D2GDEhi5_Pax"
      },
      "source": [
        "X1=train4.drop(columns=['avg_score'])\n",
        "Y1=train4.avg_score"
      ],
      "execution_count": null,
      "outputs": []
    },
    {
      "cell_type": "code",
      "metadata": {
        "id": "4vARG-Wq_Pa1"
      },
      "source": [
        "from xgboost import XGBClassifier\n",
        "xgb=XGBClassifier(colsample_bytree=0.4,\n",
        "                 gamma=0,                 \n",
        "                 learning_rate=0.01,\n",
        "                 max_depth=4,\n",
        "              \n",
        "                 min_child_weight=0.5,\n",
        "                 n_estimators=10000,                                                                    \n",
        "                 reg_alpha=0.75,\n",
        "                 reg_lambda=0.45,\n",
        "                 subsample=0.6,\n",
        "                 seed=42) "
      ],
      "execution_count": null,
      "outputs": []
    },
    {
      "cell_type": "code",
      "metadata": {
        "id": "MXaxStbj_Pa4"
      },
      "source": [
        "X1_train,X1_test,Y1_train,Y1_test=train_test_split(X1,Y1,test_size=0.2,random_state=123)"
      ],
      "execution_count": null,
      "outputs": []
    },
    {
      "cell_type": "code",
      "metadata": {
        "id": "ZZmc6a-z_Pa-",
        "outputId": "0a66d3a5-894c-4953-dc20-5b6acc3ceba2",
        "colab": {
          "base_uri": "https://localhost:8080/",
          "height": 139
        }
      },
      "source": [
        "xgb.fit(X1_train,Y1_train)"
      ],
      "execution_count": null,
      "outputs": [
        {
          "output_type": "execute_result",
          "data": {
            "text/plain": [
              "XGBClassifier(base_score=0.5, booster='gbtree', colsample_bylevel=1,\n",
              "              colsample_bynode=1, colsample_bytree=0.4, gamma=0,\n",
              "              learning_rate=0.01, max_delta_step=0, max_depth=4,\n",
              "              min_child_weight=0.5, missing=None, n_estimators=10000, n_jobs=1,\n",
              "              nthread=None, objective='multi:softprob', random_state=0,\n",
              "              reg_alpha=0.75, reg_lambda=0.45, scale_pos_weight=1, seed=42,\n",
              "              silent=None, subsample=0.6, verbosity=1)"
            ]
          },
          "metadata": {
            "tags": []
          },
          "execution_count": 28
        }
      ]
    },
    {
      "cell_type": "code",
      "metadata": {
        "id": "-0gB7rxD_PbD"
      },
      "source": [
        "yy_test=xgb.predict(X1_test)"
      ],
      "execution_count": null,
      "outputs": []
    },
    {
      "cell_type": "code",
      "metadata": {
        "id": "-wUvrjZF_PbH"
      },
      "source": [
        "from sklearn.metrics import  accuracy_score,classification_report"
      ],
      "execution_count": null,
      "outputs": []
    },
    {
      "cell_type": "code",
      "metadata": {
        "id": "kO0jg_lr_PbM",
        "outputId": "38ef9053-c709-4b60-cbea-c24a109176b7",
        "colab": {
          "base_uri": "https://localhost:8080/",
          "height": 35
        }
      },
      "source": [
        "accuracy_score(Y1_test,yy_test)"
      ],
      "execution_count": null,
      "outputs": [
        {
          "output_type": "execute_result",
          "data": {
            "text/plain": [
              "0.7863987635239568"
            ]
          },
          "metadata": {
            "tags": []
          },
          "execution_count": 31
        }
      ]
    },
    {
      "cell_type": "code",
      "metadata": {
        "id": "_GRRSZan_PbQ",
        "outputId": "123ed126-81a9-4c1c-a79c-981e36a570bc",
        "colab": {
          "base_uri": "https://localhost:8080/",
          "height": 208
        }
      },
      "source": [
        "print(classification_report(Y1_test,yy_test))"
      ],
      "execution_count": null,
      "outputs": [
        {
          "output_type": "stream",
          "text": [
            "              precision    recall  f1-score   support\n",
            "\n",
            "         0.0       0.84      0.86      0.85      1309\n",
            "         1.0       0.73      0.71      0.72      1053\n",
            "         2.0       0.81      0.80      0.81       749\n",
            "         3.0       0.53      0.51      0.52       124\n",
            "\n",
            "    accuracy                           0.79      3235\n",
            "   macro avg       0.73      0.72      0.72      3235\n",
            "weighted avg       0.78      0.79      0.79      3235\n",
            "\n"
          ],
          "name": "stdout"
        }
      ]
    },
    {
      "cell_type": "code",
      "metadata": {
        "id": "S31lGyj__PbW"
      },
      "source": [
        "test=pd.read_csv(testurl)"
      ],
      "execution_count": null,
      "outputs": []
    },
    {
      "cell_type": "code",
      "metadata": {
        "id": "B2bBtfWT_Pbb"
      },
      "source": [
        "test2=test.drop(columns=['ID','min_score','max_score'])"
      ],
      "execution_count": null,
      "outputs": []
    },
    {
      "cell_type": "code",
      "metadata": {
        "id": "20IX3EME_Pbg",
        "outputId": "614211a2-e316-464b-8c1b-758aae3e8f14",
        "colab": {
          "base_uri": "https://localhost:8080/",
          "height": 202
        }
      },
      "source": [
        "test2.head()"
      ],
      "execution_count": null,
      "outputs": [
        {
          "output_type": "execute_result",
          "data": {
            "text/html": [
              "<div>\n",
              "<style scoped>\n",
              "    .dataframe tbody tr th:only-of-type {\n",
              "        vertical-align: middle;\n",
              "    }\n",
              "\n",
              "    .dataframe tbody tr th {\n",
              "        vertical-align: top;\n",
              "    }\n",
              "\n",
              "    .dataframe thead th {\n",
              "        text-align: right;\n",
              "    }\n",
              "</style>\n",
              "<table border=\"1\" class=\"dataframe\">\n",
              "  <thead>\n",
              "    <tr style=\"text-align: right;\">\n",
              "      <th></th>\n",
              "      <th>Essayset</th>\n",
              "      <th>score_1</th>\n",
              "      <th>score_2</th>\n",
              "      <th>score_3</th>\n",
              "      <th>score_4</th>\n",
              "      <th>score_5</th>\n",
              "      <th>clarity</th>\n",
              "      <th>coherent</th>\n",
              "      <th>EssayText</th>\n",
              "    </tr>\n",
              "  </thead>\n",
              "  <tbody>\n",
              "    <tr>\n",
              "      <th>0</th>\n",
              "      <td>1</td>\n",
              "      <td>1</td>\n",
              "      <td>1</td>\n",
              "      <td>1.0</td>\n",
              "      <td>1.0</td>\n",
              "      <td>1.0</td>\n",
              "      <td>average</td>\n",
              "      <td>worst</td>\n",
              "      <td>additional information would need replicate ex...</td>\n",
              "    </tr>\n",
              "    <tr>\n",
              "      <th>1</th>\n",
              "      <td>1</td>\n",
              "      <td>1</td>\n",
              "      <td>1</td>\n",
              "      <td>1.0</td>\n",
              "      <td>1.0</td>\n",
              "      <td>1.5</td>\n",
              "      <td>worst</td>\n",
              "      <td>above_average</td>\n",
              "      <td>need trial control set exact amount vinegar po...</td>\n",
              "    </tr>\n",
              "    <tr>\n",
              "      <th>2</th>\n",
              "      <td>1</td>\n",
              "      <td>0</td>\n",
              "      <td>0</td>\n",
              "      <td>0.0</td>\n",
              "      <td>0.0</td>\n",
              "      <td>1.0</td>\n",
              "      <td>worst</td>\n",
              "      <td>worst</td>\n",
              "      <td>student list rock better rock worse procedure</td>\n",
              "    </tr>\n",
              "    <tr>\n",
              "      <th>3</th>\n",
              "      <td>1</td>\n",
              "      <td>2</td>\n",
              "      <td>2</td>\n",
              "      <td>2.0</td>\n",
              "      <td>2.5</td>\n",
              "      <td>1.0</td>\n",
              "      <td>above_average</td>\n",
              "      <td>worst</td>\n",
              "      <td>student able make replicate would need tell us...</td>\n",
              "    </tr>\n",
              "    <tr>\n",
              "      <th>4</th>\n",
              "      <td>1</td>\n",
              "      <td>1</td>\n",
              "      <td>0</td>\n",
              "      <td>0.0</td>\n",
              "      <td>0.0</td>\n",
              "      <td>0.0</td>\n",
              "      <td>worst</td>\n",
              "      <td>worst</td>\n",
              "      <td>would need information would let different sam...</td>\n",
              "    </tr>\n",
              "  </tbody>\n",
              "</table>\n",
              "</div>"
            ],
            "text/plain": [
              "   Essayset  ...                                          EssayText\n",
              "0         1  ...  additional information would need replicate ex...\n",
              "1         1  ...  need trial control set exact amount vinegar po...\n",
              "2         1  ...      student list rock better rock worse procedure\n",
              "3         1  ...  student able make replicate would need tell us...\n",
              "4         1  ...  would need information would let different sam...\n",
              "\n",
              "[5 rows x 9 columns]"
            ]
          },
          "metadata": {
            "tags": []
          },
          "execution_count": 35
        }
      ]
    },
    {
      "cell_type": "code",
      "metadata": {
        "id": "rDKjx5OD_Pbk"
      },
      "source": [
        "test2['EssayText']=test2['EssayText'].apply(clean_text)"
      ],
      "execution_count": null,
      "outputs": []
    },
    {
      "cell_type": "code",
      "metadata": {
        "id": "XPGfMdJi_Pbp"
      },
      "source": [
        "sequences_test = tok.texts_to_sequences(test2.EssayText)\n",
        "sequences_matrix_test = sequence.pad_sequences(sequences_test,maxlen=max_len)\n"
      ],
      "execution_count": null,
      "outputs": []
    },
    {
      "cell_type": "code",
      "metadata": {
        "id": "Ry6Q-icP_Pb9"
      },
      "source": [
        "test2_test=model.predict(sequences_matrix_test)"
      ],
      "execution_count": null,
      "outputs": []
    },
    {
      "cell_type": "code",
      "metadata": {
        "id": "U2pPrmVS_PcA"
      },
      "source": [
        "testdf=pd.DataFrame(test2_test,columns=['out1','out2','out3','out4'])"
      ],
      "execution_count": null,
      "outputs": []
    },
    {
      "cell_type": "code",
      "metadata": {
        "id": "urT_zLSw_PcE"
      },
      "source": [
        "test3=pd.concat([test2,testdf],axis=1)"
      ],
      "execution_count": null,
      "outputs": []
    },
    {
      "cell_type": "code",
      "metadata": {
        "id": "p8FfKGjr_PcK",
        "outputId": "f49b9297-9898-4210-c527-d672e7663f70",
        "colab": {
          "base_uri": "https://localhost:8080/",
          "height": 202
        }
      },
      "source": [
        "test3.drop(columns=['EssayText'],inplace=True)\n",
        "test3.head()"
      ],
      "execution_count": null,
      "outputs": [
        {
          "output_type": "execute_result",
          "data": {
            "text/html": [
              "<div>\n",
              "<style scoped>\n",
              "    .dataframe tbody tr th:only-of-type {\n",
              "        vertical-align: middle;\n",
              "    }\n",
              "\n",
              "    .dataframe tbody tr th {\n",
              "        vertical-align: top;\n",
              "    }\n",
              "\n",
              "    .dataframe thead th {\n",
              "        text-align: right;\n",
              "    }\n",
              "</style>\n",
              "<table border=\"1\" class=\"dataframe\">\n",
              "  <thead>\n",
              "    <tr style=\"text-align: right;\">\n",
              "      <th></th>\n",
              "      <th>Essayset</th>\n",
              "      <th>score_1</th>\n",
              "      <th>score_2</th>\n",
              "      <th>score_3</th>\n",
              "      <th>score_4</th>\n",
              "      <th>score_5</th>\n",
              "      <th>clarity</th>\n",
              "      <th>coherent</th>\n",
              "      <th>out1</th>\n",
              "      <th>out2</th>\n",
              "      <th>out3</th>\n",
              "      <th>out4</th>\n",
              "    </tr>\n",
              "  </thead>\n",
              "  <tbody>\n",
              "    <tr>\n",
              "      <th>0</th>\n",
              "      <td>1</td>\n",
              "      <td>1</td>\n",
              "      <td>1</td>\n",
              "      <td>1.0</td>\n",
              "      <td>1.0</td>\n",
              "      <td>1.0</td>\n",
              "      <td>average</td>\n",
              "      <td>worst</td>\n",
              "      <td>0.077252</td>\n",
              "      <td>0.182335</td>\n",
              "      <td>0.437558</td>\n",
              "      <td>0.302855</td>\n",
              "    </tr>\n",
              "    <tr>\n",
              "      <th>1</th>\n",
              "      <td>1</td>\n",
              "      <td>1</td>\n",
              "      <td>1</td>\n",
              "      <td>1.0</td>\n",
              "      <td>1.0</td>\n",
              "      <td>1.5</td>\n",
              "      <td>worst</td>\n",
              "      <td>above_average</td>\n",
              "      <td>0.728914</td>\n",
              "      <td>0.250911</td>\n",
              "      <td>0.018163</td>\n",
              "      <td>0.002012</td>\n",
              "    </tr>\n",
              "    <tr>\n",
              "      <th>2</th>\n",
              "      <td>1</td>\n",
              "      <td>0</td>\n",
              "      <td>0</td>\n",
              "      <td>0.0</td>\n",
              "      <td>0.0</td>\n",
              "      <td>1.0</td>\n",
              "      <td>worst</td>\n",
              "      <td>worst</td>\n",
              "      <td>0.918654</td>\n",
              "      <td>0.078819</td>\n",
              "      <td>0.002307</td>\n",
              "      <td>0.000219</td>\n",
              "    </tr>\n",
              "    <tr>\n",
              "      <th>3</th>\n",
              "      <td>1</td>\n",
              "      <td>2</td>\n",
              "      <td>2</td>\n",
              "      <td>2.0</td>\n",
              "      <td>2.5</td>\n",
              "      <td>1.0</td>\n",
              "      <td>above_average</td>\n",
              "      <td>worst</td>\n",
              "      <td>0.198783</td>\n",
              "      <td>0.408076</td>\n",
              "      <td>0.339139</td>\n",
              "      <td>0.054001</td>\n",
              "    </tr>\n",
              "    <tr>\n",
              "      <th>4</th>\n",
              "      <td>1</td>\n",
              "      <td>1</td>\n",
              "      <td>0</td>\n",
              "      <td>0.0</td>\n",
              "      <td>0.0</td>\n",
              "      <td>0.0</td>\n",
              "      <td>worst</td>\n",
              "      <td>worst</td>\n",
              "      <td>0.841969</td>\n",
              "      <td>0.146382</td>\n",
              "      <td>0.010165</td>\n",
              "      <td>0.001484</td>\n",
              "    </tr>\n",
              "  </tbody>\n",
              "</table>\n",
              "</div>"
            ],
            "text/plain": [
              "   Essayset  score_1  score_2  score_3  ...      out1      out2      out3      out4\n",
              "0         1        1        1      1.0  ...  0.077252  0.182335  0.437558  0.302855\n",
              "1         1        1        1      1.0  ...  0.728914  0.250911  0.018163  0.002012\n",
              "2         1        0        0      0.0  ...  0.918654  0.078819  0.002307  0.000219\n",
              "3         1        2        2      2.0  ...  0.198783  0.408076  0.339139  0.054001\n",
              "4         1        1        0      0.0  ...  0.841969  0.146382  0.010165  0.001484\n",
              "\n",
              "[5 rows x 12 columns]"
            ]
          },
          "metadata": {
            "tags": []
          },
          "execution_count": 41
        }
      ]
    },
    {
      "cell_type": "code",
      "metadata": {
        "id": "OrNWzCkbd4Xp"
      },
      "source": [
        ""
      ],
      "execution_count": null,
      "outputs": []
    },
    {
      "cell_type": "code",
      "metadata": {
        "id": "lxw9EsfWd4hC"
      },
      "source": [
        ""
      ],
      "execution_count": null,
      "outputs": []
    },
    {
      "cell_type": "code",
      "metadata": {
        "id": "cuNcHEmr_PcO",
        "outputId": "01b5606c-0f38-4389-9255-f7cdb77ed15d",
        "colab": {
          "base_uri": "https://localhost:8080/",
          "height": 271
        }
      },
      "source": [
        "\n",
        "test.head()\n"
      ],
      "execution_count": null,
      "outputs": [
        {
          "output_type": "execute_result",
          "data": {
            "text/html": [
              "<div>\n",
              "<style scoped>\n",
              "    .dataframe tbody tr th:only-of-type {\n",
              "        vertical-align: middle;\n",
              "    }\n",
              "\n",
              "    .dataframe tbody tr th {\n",
              "        vertical-align: top;\n",
              "    }\n",
              "\n",
              "    .dataframe thead th {\n",
              "        text-align: right;\n",
              "    }\n",
              "</style>\n",
              "<table border=\"1\" class=\"dataframe\">\n",
              "  <thead>\n",
              "    <tr style=\"text-align: right;\">\n",
              "      <th></th>\n",
              "      <th>ID</th>\n",
              "      <th>Essayset</th>\n",
              "      <th>min_score</th>\n",
              "      <th>max_score</th>\n",
              "      <th>score_1</th>\n",
              "      <th>score_2</th>\n",
              "      <th>score_3</th>\n",
              "      <th>score_4</th>\n",
              "      <th>score_5</th>\n",
              "      <th>clarity</th>\n",
              "      <th>coherent</th>\n",
              "      <th>EssayText</th>\n",
              "    </tr>\n",
              "  </thead>\n",
              "  <tbody>\n",
              "    <tr>\n",
              "      <th>0</th>\n",
              "      <td>1</td>\n",
              "      <td>1</td>\n",
              "      <td>0</td>\n",
              "      <td>3</td>\n",
              "      <td>1</td>\n",
              "      <td>1</td>\n",
              "      <td>1.0</td>\n",
              "      <td>1.0</td>\n",
              "      <td>1.0</td>\n",
              "      <td>average</td>\n",
              "      <td>worst</td>\n",
              "      <td>additional information would need replicate ex...</td>\n",
              "    </tr>\n",
              "    <tr>\n",
              "      <th>1</th>\n",
              "      <td>3</td>\n",
              "      <td>1</td>\n",
              "      <td>0</td>\n",
              "      <td>3</td>\n",
              "      <td>1</td>\n",
              "      <td>1</td>\n",
              "      <td>1.0</td>\n",
              "      <td>1.0</td>\n",
              "      <td>1.5</td>\n",
              "      <td>worst</td>\n",
              "      <td>above_average</td>\n",
              "      <td>need trial control set exact amount vinegar po...</td>\n",
              "    </tr>\n",
              "    <tr>\n",
              "      <th>2</th>\n",
              "      <td>4</td>\n",
              "      <td>1</td>\n",
              "      <td>0</td>\n",
              "      <td>3</td>\n",
              "      <td>0</td>\n",
              "      <td>0</td>\n",
              "      <td>0.0</td>\n",
              "      <td>0.0</td>\n",
              "      <td>1.0</td>\n",
              "      <td>worst</td>\n",
              "      <td>worst</td>\n",
              "      <td>student list rock better rock worse procedure</td>\n",
              "    </tr>\n",
              "    <tr>\n",
              "      <th>3</th>\n",
              "      <td>5</td>\n",
              "      <td>1</td>\n",
              "      <td>0</td>\n",
              "      <td>3</td>\n",
              "      <td>2</td>\n",
              "      <td>2</td>\n",
              "      <td>2.0</td>\n",
              "      <td>2.5</td>\n",
              "      <td>1.0</td>\n",
              "      <td>above_average</td>\n",
              "      <td>worst</td>\n",
              "      <td>student able make replicate would need tell us...</td>\n",
              "    </tr>\n",
              "    <tr>\n",
              "      <th>4</th>\n",
              "      <td>6</td>\n",
              "      <td>1</td>\n",
              "      <td>0</td>\n",
              "      <td>3</td>\n",
              "      <td>1</td>\n",
              "      <td>0</td>\n",
              "      <td>0.0</td>\n",
              "      <td>0.0</td>\n",
              "      <td>0.0</td>\n",
              "      <td>worst</td>\n",
              "      <td>worst</td>\n",
              "      <td>would need information would let different sam...</td>\n",
              "    </tr>\n",
              "  </tbody>\n",
              "</table>\n",
              "</div>"
            ],
            "text/plain": [
              "   ID  ...                                          EssayText\n",
              "0   1  ...  additional information would need replicate ex...\n",
              "1   3  ...  need trial control set exact amount vinegar po...\n",
              "2   4  ...      student list rock better rock worse procedure\n",
              "3   5  ...  student able make replicate would need tell us...\n",
              "4   6  ...  would need information would let different sam...\n",
              "\n",
              "[5 rows x 12 columns]"
            ]
          },
          "metadata": {
            "tags": []
          },
          "execution_count": 42
        }
      ]
    },
    {
      "cell_type": "code",
      "metadata": {
        "id": "zgJhd7jE_PcR"
      },
      "source": [
        "test3.loc[:,['Essayset','clarity','coherent']]=ce1.transform(test3.loc[:,['Essayset','clarity','coherent']])"
      ],
      "execution_count": null,
      "outputs": []
    },
    {
      "cell_type": "code",
      "metadata": {
        "id": "LimPIB3x_PcW",
        "outputId": "ad6e2781-38a6-4081-a6bf-0bedda657a34",
        "colab": {
          "base_uri": "https://localhost:8080/",
          "height": 202
        }
      },
      "source": [
        "test3.drop(columns=['score_1','score_2','score_3','score_4','score_5'],inplace=True)\n",
        "\n",
        "test3.head()\n"
      ],
      "execution_count": null,
      "outputs": [
        {
          "output_type": "execute_result",
          "data": {
            "text/html": [
              "<div>\n",
              "<style scoped>\n",
              "    .dataframe tbody tr th:only-of-type {\n",
              "        vertical-align: middle;\n",
              "    }\n",
              "\n",
              "    .dataframe tbody tr th {\n",
              "        vertical-align: top;\n",
              "    }\n",
              "\n",
              "    .dataframe thead th {\n",
              "        text-align: right;\n",
              "    }\n",
              "</style>\n",
              "<table border=\"1\" class=\"dataframe\">\n",
              "  <thead>\n",
              "    <tr style=\"text-align: right;\">\n",
              "      <th></th>\n",
              "      <th>Essayset</th>\n",
              "      <th>clarity</th>\n",
              "      <th>coherent</th>\n",
              "      <th>out1</th>\n",
              "      <th>out2</th>\n",
              "      <th>out3</th>\n",
              "      <th>out4</th>\n",
              "    </tr>\n",
              "  </thead>\n",
              "  <tbody>\n",
              "    <tr>\n",
              "      <th>0</th>\n",
              "      <td>1.480649</td>\n",
              "      <td>0.496662</td>\n",
              "      <td>0.482423</td>\n",
              "      <td>0.077252</td>\n",
              "      <td>0.182335</td>\n",
              "      <td>0.437558</td>\n",
              "      <td>0.302855</td>\n",
              "    </tr>\n",
              "    <tr>\n",
              "      <th>1</th>\n",
              "      <td>1.480649</td>\n",
              "      <td>0.486640</td>\n",
              "      <td>1.944411</td>\n",
              "      <td>0.728914</td>\n",
              "      <td>0.250911</td>\n",
              "      <td>0.018163</td>\n",
              "      <td>0.002012</td>\n",
              "    </tr>\n",
              "    <tr>\n",
              "      <th>2</th>\n",
              "      <td>1.480649</td>\n",
              "      <td>0.486640</td>\n",
              "      <td>0.482423</td>\n",
              "      <td>0.918654</td>\n",
              "      <td>0.078819</td>\n",
              "      <td>0.002307</td>\n",
              "      <td>0.000219</td>\n",
              "    </tr>\n",
              "    <tr>\n",
              "      <th>3</th>\n",
              "      <td>1.480649</td>\n",
              "      <td>1.943451</td>\n",
              "      <td>0.482423</td>\n",
              "      <td>0.198783</td>\n",
              "      <td>0.408076</td>\n",
              "      <td>0.339139</td>\n",
              "      <td>0.054001</td>\n",
              "    </tr>\n",
              "    <tr>\n",
              "      <th>4</th>\n",
              "      <td>1.480649</td>\n",
              "      <td>0.486640</td>\n",
              "      <td>0.482423</td>\n",
              "      <td>0.841969</td>\n",
              "      <td>0.146382</td>\n",
              "      <td>0.010165</td>\n",
              "      <td>0.001484</td>\n",
              "    </tr>\n",
              "  </tbody>\n",
              "</table>\n",
              "</div>"
            ],
            "text/plain": [
              "   Essayset   clarity  coherent      out1      out2      out3      out4\n",
              "0  1.480649  0.496662  0.482423  0.077252  0.182335  0.437558  0.302855\n",
              "1  1.480649  0.486640  1.944411  0.728914  0.250911  0.018163  0.002012\n",
              "2  1.480649  0.486640  0.482423  0.918654  0.078819  0.002307  0.000219\n",
              "3  1.480649  1.943451  0.482423  0.198783  0.408076  0.339139  0.054001\n",
              "4  1.480649  0.486640  0.482423  0.841969  0.146382  0.010165  0.001484"
            ]
          },
          "metadata": {
            "tags": []
          },
          "execution_count": 44
        }
      ]
    },
    {
      "cell_type": "code",
      "metadata": {
        "id": "5tqP70px_Pca"
      },
      "source": [
        "final_out=xgb.predict(test3)"
      ],
      "execution_count": null,
      "outputs": []
    },
    {
      "cell_type": "code",
      "metadata": {
        "id": "zBqIABET_Pce"
      },
      "source": [
        "out=pd.DataFrame()\n"
      ],
      "execution_count": null,
      "outputs": []
    },
    {
      "cell_type": "code",
      "metadata": {
        "id": "HF3qeAEg_Pch"
      },
      "source": [
        "out['id']=test.ID\n",
        "out['essay_set']=test.Essayset\n"
      ],
      "execution_count": null,
      "outputs": []
    },
    {
      "cell_type": "code",
      "metadata": {
        "id": "XvncGkDr_Pcj",
        "outputId": "4e8ab407-ab3b-4ae6-a265-52879de8b4f3",
        "colab": {
          "base_uri": "https://localhost:8080/",
          "height": 202
        }
      },
      "source": [
        "out['essay_score']=final_out\n",
        "out.tail()"
      ],
      "execution_count": null,
      "outputs": [
        {
          "output_type": "execute_result",
          "data": {
            "text/html": [
              "<div>\n",
              "<style scoped>\n",
              "    .dataframe tbody tr th:only-of-type {\n",
              "        vertical-align: middle;\n",
              "    }\n",
              "\n",
              "    .dataframe tbody tr th {\n",
              "        vertical-align: top;\n",
              "    }\n",
              "\n",
              "    .dataframe thead th {\n",
              "        text-align: right;\n",
              "    }\n",
              "</style>\n",
              "<table border=\"1\" class=\"dataframe\">\n",
              "  <thead>\n",
              "    <tr style=\"text-align: right;\">\n",
              "      <th></th>\n",
              "      <th>id</th>\n",
              "      <th>essay_set</th>\n",
              "      <th>essay_score</th>\n",
              "    </tr>\n",
              "  </thead>\n",
              "  <tbody>\n",
              "    <tr>\n",
              "      <th>4</th>\n",
              "      <td>6</td>\n",
              "      <td>1</td>\n",
              "      <td>0.0</td>\n",
              "    </tr>\n",
              "    <tr>\n",
              "      <th>5</th>\n",
              "      <td>7</td>\n",
              "      <td>1</td>\n",
              "      <td>0.0</td>\n",
              "    </tr>\n",
              "    <tr>\n",
              "      <th>6</th>\n",
              "      <td>8</td>\n",
              "      <td>1</td>\n",
              "      <td>3.0</td>\n",
              "    </tr>\n",
              "    <tr>\n",
              "      <th>7</th>\n",
              "      <td>9</td>\n",
              "      <td>1</td>\n",
              "      <td>3.0</td>\n",
              "    </tr>\n",
              "    <tr>\n",
              "      <th>8</th>\n",
              "      <td>10</td>\n",
              "      <td>1</td>\n",
              "      <td>2.0</td>\n",
              "    </tr>\n",
              "  </tbody>\n",
              "</table>\n",
              "</div>"
            ],
            "text/plain": [
              "   id  essay_set  essay_score\n",
              "4   6          1          0.0\n",
              "5   7          1          0.0\n",
              "6   8          1          3.0\n",
              "7   9          1          3.0\n",
              "8  10          1          2.0"
            ]
          },
          "metadata": {
            "tags": []
          },
          "execution_count": 48
        }
      ]
    },
    {
      "cell_type": "code",
      "metadata": {
        "id": "18rc_R3__Pco"
      },
      "source": [
        "out.to_csv('SCORES.csv',index=None)\n",
        "nn=pd.read_csv('SCORES.csv')"
      ],
      "execution_count": null,
      "outputs": []
    },
    {
      "cell_type": "code",
      "metadata": {
        "id": "lEOW0rmUGmHJ",
        "outputId": "ee778b29-2369-4e71-ae46-285ec721d140",
        "colab": {
          "base_uri": "https://localhost:8080/",
          "height": 325
        }
      },
      "source": [
        "nn.head(10)"
      ],
      "execution_count": null,
      "outputs": [
        {
          "output_type": "execute_result",
          "data": {
            "text/html": [
              "<div>\n",
              "<style scoped>\n",
              "    .dataframe tbody tr th:only-of-type {\n",
              "        vertical-align: middle;\n",
              "    }\n",
              "\n",
              "    .dataframe tbody tr th {\n",
              "        vertical-align: top;\n",
              "    }\n",
              "\n",
              "    .dataframe thead th {\n",
              "        text-align: right;\n",
              "    }\n",
              "</style>\n",
              "<table border=\"1\" class=\"dataframe\">\n",
              "  <thead>\n",
              "    <tr style=\"text-align: right;\">\n",
              "      <th></th>\n",
              "      <th>id</th>\n",
              "      <th>essay_set</th>\n",
              "      <th>essay_score</th>\n",
              "    </tr>\n",
              "  </thead>\n",
              "  <tbody>\n",
              "    <tr>\n",
              "      <th>0</th>\n",
              "      <td>1</td>\n",
              "      <td>1</td>\n",
              "      <td>1.0</td>\n",
              "    </tr>\n",
              "    <tr>\n",
              "      <th>1</th>\n",
              "      <td>3</td>\n",
              "      <td>1</td>\n",
              "      <td>1.0</td>\n",
              "    </tr>\n",
              "    <tr>\n",
              "      <th>2</th>\n",
              "      <td>4</td>\n",
              "      <td>1</td>\n",
              "      <td>0.0</td>\n",
              "    </tr>\n",
              "    <tr>\n",
              "      <th>3</th>\n",
              "      <td>5</td>\n",
              "      <td>1</td>\n",
              "      <td>1.0</td>\n",
              "    </tr>\n",
              "    <tr>\n",
              "      <th>4</th>\n",
              "      <td>6</td>\n",
              "      <td>1</td>\n",
              "      <td>0.0</td>\n",
              "    </tr>\n",
              "    <tr>\n",
              "      <th>5</th>\n",
              "      <td>7</td>\n",
              "      <td>1</td>\n",
              "      <td>0.0</td>\n",
              "    </tr>\n",
              "    <tr>\n",
              "      <th>6</th>\n",
              "      <td>8</td>\n",
              "      <td>1</td>\n",
              "      <td>3.0</td>\n",
              "    </tr>\n",
              "    <tr>\n",
              "      <th>7</th>\n",
              "      <td>9</td>\n",
              "      <td>1</td>\n",
              "      <td>3.0</td>\n",
              "    </tr>\n",
              "    <tr>\n",
              "      <th>8</th>\n",
              "      <td>10</td>\n",
              "      <td>1</td>\n",
              "      <td>2.0</td>\n",
              "    </tr>\n",
              "  </tbody>\n",
              "</table>\n",
              "</div>"
            ],
            "text/plain": [
              "   id  essay_set  essay_score\n",
              "0   1          1          1.0\n",
              "1   3          1          1.0\n",
              "2   4          1          0.0\n",
              "3   5          1          1.0\n",
              "4   6          1          0.0\n",
              "5   7          1          0.0\n",
              "6   8          1          3.0\n",
              "7   9          1          3.0\n",
              "8  10          1          2.0"
            ]
          },
          "metadata": {
            "tags": []
          },
          "execution_count": 50
        }
      ]
    },
    {
      "cell_type": "code",
      "metadata": {
        "id": "M1EIOPNHGoA3"
      },
      "source": [
        "#absolute_path = os.path.abspath(os.path.dirname('output.csv'))\n"
      ],
      "execution_count": null,
      "outputs": []
    },
    {
      "cell_type": "code",
      "metadata": {
        "id": "8oFY2afxG9PB"
      },
      "source": [
        ""
      ],
      "execution_count": null,
      "outputs": []
    },
    {
      "cell_type": "code",
      "metadata": {
        "id": "8JR5ktoAGtXo"
      },
      "source": [
        ""
      ],
      "execution_count": null,
      "outputs": []
    },
    {
      "cell_type": "code",
      "metadata": {
        "id": "6AIVfuMG_Pcr",
        "outputId": "a7fd428b-f71b-4290-d78d-ba53e8960e31",
        "colab": {
          "base_uri": "https://localhost:8080/",
          "height": 296
        }
      },
      "source": [
        "out.groupby('essay_set').essay_score.value_counts().plot(kind='bar',figsize=(50,10),fontsize=30)\n",
        "from google.colab import files\n",
        "files.download(\"SCORES.csv\")"
      ],
      "execution_count": null,
      "outputs": [
        {
          "output_type": "display_data",
          "data": {
            "application/javascript": [
              "\n",
              "    async function download(id, filename, size) {\n",
              "      if (!google.colab.kernel.accessAllowed) {\n",
              "        return;\n",
              "      }\n",
              "      const div = document.createElement('div');\n",
              "      const label = document.createElement('label');\n",
              "      label.textContent = `Downloading \"${filename}\": `;\n",
              "      div.appendChild(label);\n",
              "      const progress = document.createElement('progress');\n",
              "      progress.max = size;\n",
              "      div.appendChild(progress);\n",
              "      document.body.appendChild(div);\n",
              "\n",
              "      const buffers = [];\n",
              "      let downloaded = 0;\n",
              "\n",
              "      const channel = await google.colab.kernel.comms.open(id);\n",
              "      // Send a message to notify the kernel that we're ready.\n",
              "      channel.send({})\n",
              "\n",
              "      for await (const message of channel.messages) {\n",
              "        // Send a message to notify the kernel that we're ready.\n",
              "        channel.send({})\n",
              "        if (message.buffers) {\n",
              "          for (const buffer of message.buffers) {\n",
              "            buffers.push(buffer);\n",
              "            downloaded += buffer.byteLength;\n",
              "            progress.value = downloaded;\n",
              "          }\n",
              "        }\n",
              "      }\n",
              "      const blob = new Blob(buffers, {type: 'application/binary'});\n",
              "      const a = document.createElement('a');\n",
              "      a.href = window.URL.createObjectURL(blob);\n",
              "      a.download = filename;\n",
              "      div.appendChild(a);\n",
              "      a.click();\n",
              "      div.remove();\n",
              "    }\n",
              "  "
            ],
            "text/plain": [
              "<IPython.core.display.Javascript object>"
            ]
          },
          "metadata": {
            "tags": []
          }
        },
        {
          "output_type": "display_data",
          "data": {
            "application/javascript": [
              "download(\"download_0cd1bea8-72a2-4100-84c5-0452bac89d41\", \"SCORES.csv\", 98)"
            ],
            "text/plain": [
              "<IPython.core.display.Javascript object>"
            ]
          },
          "metadata": {
            "tags": []
          }
        },
        {
          "output_type": "display_data",
          "data": {
            "image/png": "[encoded data removed]",
            "text/plain": [
              "<Figure size 3600x720 with 1 Axes>"
            ]
          },
          "metadata": {
            "tags": [],
            "needs_background": "light"
          }
        }
      ]
    },
    {
      "cell_type": "code",
      "metadata": {
        "id": "w1RPUGZT_Pcu"
      },
      "source": [
        ""
      ],
      "execution_count": null,
      "outputs": []
    }
  ]
}